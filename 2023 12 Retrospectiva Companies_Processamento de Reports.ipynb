{
  "nbformat": 4,
  "nbformat_minor": 0,
  "metadata": {
    "colab": {
      "provenance": [],
      "authorship_tag": "ABX9TyMbvweOyg0l8v1hfbANA6M1",
      "include_colab_link": true
    },
    "kernelspec": {
      "name": "python3",
      "display_name": "Python 3"
    },
    "language_info": {
      "name": "python"
    }
  },
  "cells": [
    {
      "cell_type": "markdown",
      "metadata": {
        "id": "view-in-github",
        "colab_type": "text"
      },
      "source": [
        "<a href=\"https://colab.research.google.com/github/pedrobribeiro2/99Hunters_Projects/blob/main/2023%2012%20Retrospectiva%20Companies_Processamento%20de%20Reports.ipynb\" target=\"_parent\"><img src=\"https://colab.research.google.com/assets/colab-badge.svg\" alt=\"Open In Colab\"/></a>"
      ]
    },
    {
      "cell_type": "code",
      "execution_count": null,
      "metadata": {
        "colab": {
          "base_uri": "https://localhost:8080/"
        },
        "id": "ZxNiT9T9VREu",
        "outputId": "ca2e77fb-db24-46b1-d38d-e26ef023851e"
      },
      "outputs": [
        {
          "output_type": "stream",
          "name": "stdout",
          "text": [
            "Drive already mounted at /content/drive; to attempt to forcibly remount, call drive.mount(\"/content/drive\", force_remount=True).\n"
          ]
        }
      ],
      "source": [
        "from google.colab import drive\n",
        "drive.mount('/content/drive')\n"
      ]
    },
    {
      "cell_type": "code",
      "source": [
        "import pandas as pd\n",
        "\n",
        "# Adjust the file path below to the location of your file in Google Drive\n",
        "file_path = '/content/drive/MyDrive/Pedro Marketing/2023 12 99Hunters Wrapped/2023 12 05 jobs_report.csv'  # Replace with your file path in Google Drive\n",
        "candidates_data_path = '/content/drive/MyDrive/Pedro Marketing/2023 12 99Hunters Wrapped/2023 12 05 candidate_jobs_report.csv'\n",
        "\n",
        "# Load the dataset\n",
        "jobs_data = pd.read_csv(file_path)\n",
        "candidates_data = pd.read_csv(candidates_data_path)\n",
        "\n",
        "# Display the first few rows to verify the data\n",
        "#print(candidates_data.head())\n"
      ],
      "metadata": {
        "id": "aoOleQ9TVTlU"
      },
      "execution_count": null,
      "outputs": []
    },
    {
      "cell_type": "code",
      "source": [
        "#print(jobs_data[['Company_name', 'Created_at', 'been_open', 'been_shortlist']])"
      ],
      "metadata": {
        "id": "A5DYsWPN8jsO"
      },
      "execution_count": null,
      "outputs": []
    },
    {
      "cell_type": "code",
      "source": [
        "# Importar a biblioteca necessária\n",
        "import calendar\n",
        "\n",
        "#Converter as colunas de data para datetime\n",
        "jobs_data['Created_at'] = pd.to_datetime(jobs_data['Created_at'], format='%m/%d/%Y-%H:%M')\n",
        "jobs_data['been_open'] = pd.to_datetime(jobs_data['been_open'], format='%m/%d/%Y-%H:%M', errors='coerce')\n",
        "jobs_data['been_working'] = pd.to_datetime(jobs_data['been_working'], format='%m/%d/%Y-%H:%M')\n",
        "jobs_data['been_shortlist'] = pd.to_datetime(jobs_data['been_shortlist'], format='%m/%d/%Y-%H:%M', errors='coerce')\n",
        "jobs_data['been_Interviews'] = pd.to_datetime(jobs_data['been_Interviews'], format='%m/%d/%Y-%H:%M')\n",
        "jobs_data['been_adv_interviews'] = pd.to_datetime(jobs_data['been_adv_interviews'], format='%m/%d/%Y-%H:%M')\n",
        "jobs_data['been_closed'] = pd.to_datetime(jobs_data['been_closed'], format='%m/%d/%Y-%H:%M', errors='coerce')\n",
        "jobs_data['been_concluded'] = pd.to_datetime(jobs_data['been_concluded'], format='%m/%d/%Y-%H:%M', errors='coerce')\n",
        "jobs_data['been_on_hold'] = pd.to_datetime(jobs_data['been_on_hold'], format='%m/%d/%Y-%H:%M')"
      ],
      "metadata": {
        "id": "umPtXlxMaCYo"
      },
      "execution_count": null,
      "outputs": []
    },
    {
      "cell_type": "code",
      "source": [
        "# Filtrar jobs válidos\n",
        "valid_jobs = jobs_data[~jobs_data['Status'].isin(['denied', 'review', 'canceled']) & (jobs_data['Created_at'] >= '2023-01-01')].copy()\n",
        "# Excluir registros onde a data de abertura é posterior à data de fechamento ou shortlist\n",
        "#valid_jobs = valid_jobs[(valid_jobs['been_closed'] >= valid_jobs['been_open']) & (valid_jobs['been_shortlist'] >= valid_jobs['been_open'])]\n"
      ],
      "metadata": {
        "id": "ZawKYVF-V5_2"
      },
      "execution_count": null,
      "outputs": []
    },
    {
      "cell_type": "code",
      "source": [
        "def classificar_vaga(budget):\n",
        "    if budget > 15000:\n",
        "        return 'Executiva'\n",
        "    else:\n",
        "        return 'Tradicional'\n",
        "\n",
        "def estimativa_investimento(budget):\n",
        "    if budget > 15000:\n",
        "        return budget * 12 * 0.25  # 25% do pacote anual\n",
        "    else:\n",
        "        return budget * 12 * 0.18  # 18% do pacote anual\n",
        "\n",
        "# Aplicando as funções para classificar as vagas e calcular a estimativa de investimento\n",
        "jobs_data['Nível Vagas'] = jobs_data['Budget'].apply(classificar_vaga)\n",
        "jobs_data['Estimativa Investimento'] = jobs_data['Budget'].apply(estimativa_investimento)\n"
      ],
      "metadata": {
        "id": "bNyFAG8GaaCi"
      },
      "execution_count": null,
      "outputs": []
    },
    {
      "cell_type": "code",
      "source": [
        "# Calcular a diferença entre as datas de abertura e fechamento em dias\n",
        "#valid_jobs['Closing_Time'] = (valid_jobs['been_closed'] - valid_jobs['been_open']).dt.days\n",
        "\n",
        "# Calcular a diferença entre as datas de abertura e envio de shortlist\n",
        "valid_jobs['SLA_Shortlist'] = ((valid_jobs['been_shortlist'] - valid_jobs['Created_at']).dt.days)\n",
        "#print(valid_jobs[['Company_name', 'been_open', 'been_shortlist', 'SLA_Shortlist']])\n"
      ],
      "metadata": {
        "id": "r1w-Gex6ZfI6"
      },
      "execution_count": null,
      "outputs": []
    },
    {
      "cell_type": "code",
      "source": [
        "# Calcular número de jobs abertos, fechados com a 99Hunters, fechados internamente, e total investido\n",
        "result = valid_jobs.groupby('Company_name').agg(\n",
        "    Jobs_Abertos=('been_open', 'count'),\n",
        "    Jobs_Placement=('been_closed', lambda x: x.notna().sum()),\n",
        "    Jobs_Concluded=('been_concluded', lambda x: x.notna().sum()),\n",
        "    Total_Investido=('Budget', 'sum'),\n",
        "    Tempo_Médio_Fechamento=('SLA Closed' , 'mean'),\n",
        "    Mediana_Fechamento=('SLA Closed' , 'median'),\n",
        "    #Closing_time=('Closing_Time', 'mean'),\n",
        "    #Mediana_Fechamento =('Closing_Time', 'median'),\n",
        "    Média_SLA_Shortlist =('SLA_Shortlist', 'mean'),\n",
        "    #Mediana_SLA_Shortlist=('SLA_Shortlist', 'median'),\n",
        ").reset_index()"
      ],
      "metadata": {
        "id": "RHhwmwHYV7if"
      },
      "execution_count": null,
      "outputs": []
    },
    {
      "cell_type": "code",
      "source": [
        "#Preparando Candidates_data\n",
        "candidates_data['Interview_Occurred'] = candidates_data['cj been_interviews'].notna()\n"
      ],
      "metadata": {
        "id": "eS2lgSGqY6Hq"
      },
      "execution_count": null,
      "outputs": []
    },
    {
      "cell_type": "code",
      "source": [
        "# Contar entrevistas por job\n",
        "interviews_per_job = candidates_data.groupby('Code')['Interview_Occurred'].sum().reset_index()\n",
        "interviews_per_job.rename(columns={'Interview_Occurred': 'Número de Entrevistas'}, inplace=True)\n"
      ],
      "metadata": {
        "id": "gBd1azzWZA8N"
      },
      "execution_count": null,
      "outputs": []
    },
    {
      "cell_type": "code",
      "source": [
        "# Cruzamento com a base de jobs\n",
        "merged_data = jobs_data.merge(interviews_per_job, left_on='code', right_on='Code', how='left')"
      ],
      "metadata": {
        "id": "IRymVK5OZFvA"
      },
      "execution_count": null,
      "outputs": []
    },
    {
      "cell_type": "code",
      "source": [
        "# Agregar dados por empresa\n",
        "agg_data = merged_data.groupby('Company_name').agg(\n",
        "    Total_Entrevistas=('Número de Entrevistas', 'sum'),\n",
        "    Total_Jobs=('code', 'nunique')\n",
        ")\n",
        "agg_data['Média de Entrevistas por Job'] = agg_data['Total_Entrevistas'] / agg_data['Total_Jobs']"
      ],
      "metadata": {
        "id": "eID3KTn5ZLEI"
      },
      "execution_count": null,
      "outputs": []
    },
    {
      "cell_type": "code",
      "source": [
        "# Adicionar as novas colunas ao DataFrame resultante\n",
        "result = result.merge(agg_data[['Total_Entrevistas', 'Média de Entrevistas por Job']], on='Company_name', how='left')\n"
      ],
      "metadata": {
        "id": "up2pGY14ZQdX"
      },
      "execution_count": null,
      "outputs": []
    },
    {
      "cell_type": "code",
      "source": [
        "# Agregar os dados por empresa\n",
        "agg_data = jobs_data.groupby('Company_name').agg(\n",
        "    Nível_Vagas=('Nível Vagas', lambda x: list(x.unique())),\n",
        "    Estimativa_Investimento_Consultoria=('Estimativa Investimento', 'sum')\n",
        ")\n",
        "\n",
        "# Adicionar as novas colunas ao DataFrame resultante\n",
        "result = result.merge(agg_data, on='Company_name', how='left')\n",
        "\n",
        "# Ajustar o resultado final\n",
        "result.fillna({'Estimativa_Investimento_Consultoria': 0}, inplace=True)\n",
        "#result['Estimativa_Investimento_Consultoria'] = result['Estimativa_Investimento_Consultoria'].round(2)\n",
        "result['Estimativa_Investimento_Consultoria'] = result['Estimativa_Investimento_Consultoria'].apply(lambda x: f'R$ {x:,.2f}'.replace(',', 'X').replace('.', ',').replace('X', '.'))\n"
      ],
      "metadata": {
        "id": "ghqLemCuasCy"
      },
      "execution_count": null,
      "outputs": []
    },
    {
      "cell_type": "code",
      "source": [
        "# Tratar valores nulos e arredondar os resultados\n",
        "result[['Tempo_Médio_Fechamento' , 'Mediana_Fechamento' , 'Média_SLA_Shortlist']] = result[['Tempo_Médio_Fechamento' , 'Mediana_Fechamento' , 'Média_SLA_Shortlist']].fillna(0)#.round(0)\n"
      ],
      "metadata": {
        "id": "bIBdJFCaZpO8"
      },
      "execution_count": null,
      "outputs": []
    },
    {
      "cell_type": "code",
      "source": [
        "# Ajustar o resultado final\n",
        "result.fillna({'Total_Entrevistas': 0, 'Média de Entrevistas por Job': 0}, inplace=True)\n",
        "result['Média de Entrevistas por Job'] = result['Média de Entrevistas por Job'].round(2)\n"
      ],
      "metadata": {
        "id": "n6UzHHqfZeh9"
      },
      "execution_count": null,
      "outputs": []
    },
    {
      "cell_type": "code",
      "source": [
        "# Ajustar formatação de colunas numéricas\n",
        "colunas_numericas = ['Tempo_Médio_Fechamento' , 'Mediana_Fechamento' , 'Média_SLA_Shortlist', 'Total_Entrevistas','Média de Entrevistas por Job' ]\n",
        "result[colunas_numericas] = result[colunas_numericas].fillna(0).astype(float).round(2)\n",
        "\n",
        "# Função para formatar números com vírgula como separador decimal\n",
        "def format_float(val):\n",
        "    return f\"{val:.2f}\".replace('.', ',')\n",
        "\n",
        "# Aplicar a formatação nas colunas numéricas\n",
        "result[colunas_numericas] = result[colunas_numericas].applymap(format_float)\n",
        "\n",
        "# Exibir o DataFrame para verificar as mudanças\n",
        "#print(result.head())\n",
        "\n",
        "# Formatar 'Earnings_2023' como moeda BRL\n",
        "result['Total_Investido'] = result['Total_Investido'].apply(lambda x: f'R$ {x:,.2f}'.replace(',', 'X').replace('.', ',').replace('X', '.'))\n"
      ],
      "metadata": {
        "id": "tWkJNSFneThK"
      },
      "execution_count": null,
      "outputs": []
    },
    {
      "cell_type": "code",
      "source": [
        "# Colunas na ordem desejada\n",
        "colunas_desejadas = [\n",
        "    'Company_name', 'Jobs_Abertos', 'Jobs_Placement', 'Jobs_Concluded',\n",
        "    'Total_Investido', 'Nível_Vagas', 'Estimativa_Investimento_Consultoria',\n",
        "    'Tempo_Médio_Fechamento', 'Mediana_Fechamento', 'Média_SLA_Shortlist',\n",
        "    'Total_Entrevistas', 'Média de Entrevistas por Job'\n",
        "]\n",
        "\n",
        "# Reordenar as colunas de acordo com a nova ordem\n",
        "result = result[colunas_desejadas]"
      ],
      "metadata": {
        "id": "9Gk_mIzKfhL9"
      },
      "execution_count": null,
      "outputs": []
    },
    {
      "cell_type": "code",
      "source": [
        "# Salvar o resultado em um arquivo CSV\n",
        "result.to_csv('/content/drive/MyDrive/Pedro Marketing/2023 12 99Hunters Wrapped/Análise 13.csv', index=False)"
      ],
      "metadata": {
        "id": "XouQ5xv-V-eO"
      },
      "execution_count": null,
      "outputs": []
    }
  ]
}